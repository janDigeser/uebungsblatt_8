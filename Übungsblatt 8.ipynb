{
 "cells": [
  {
   "cell_type": "markdown",
   "metadata": {},
   "source": [
    "# Zu Übungsblatt 8\n",
    "\n",
    "### Überladen, Felder, Klassen\n",
    "\n",
    "\n",
    "#### Aufgabe 3: Zweidimensionale Felder (4P)\n",
    "\n",
    "> b) Schreiben Sie eine Funktion die ein Feld der Größe `d` x `n`  erzeugt<br>\n",
    "c) Schreiben Sie eine Funktion, die die _i_-te Zeile zufällig füllt <br>\n",
    "d) Schreiben Sie eine Funktion, die das Feld zufällig befüllt <br>\n",
    "e) Schreiben Sie eine `toString`-Funktion <br>\n",
    "f) Schreiben Sie eine Propagation-Funktion <br>\n",
    "g) Wieviele Funktionen $f: \\{0, 1\\}^3 \\rightarrow \\{0,1\\}$ gibt es <br>\n",
    "h) Initialisieren Sie die erste Zeile zufällig und propagieren Sie durch das Feld \n",
    "\n"
   ]
  },
  {
   "cell_type": "code",
   "execution_count": 2,
   "metadata": {},
   "outputs": [],
   "source": [
    "import java.lang.StringBuilder;\n",
    "\n",
    "public class CA{\n",
    "    private boolean[][] cArray;\n",
    "    \n",
    "    public CA(int d, int n){\n",
    "        cArray = createArray(d, n);\n",
    "    }\n",
    "    \n",
    "    // b)\n",
    "    public static boolean[][] createArray(int d, int n){\n",
    "        return new boolean[d][n];\n",
    "    }\n",
    "    \n",
    "    // c)\n",
    "    public void fillRow(int row, double p){\n",
    "        if (cArray.length < 1) return;\n",
    "        for (int i = 0; i < cArray[0].length; i++)\n",
    "            cArray[row][i] = (Math.random() < p);\n",
    "    }\n",
    "    \n",
    "    // d)\n",
    "    public void fillArray(double p){\n",
    "        for (int i = 0; i < cArray.length; i++)\n",
    "            for (int j = 0; j < cArray[i].length; j++)\n",
    "                cArray[i][j] = (Math.random() < p);\n",
    "    }\n",
    "    \n",
    "    // e)\n",
    "    @Override\n",
    "    public String toString(){\n",
    "        StringBuilder sb = new StringBuilder();\n",
    "        for (int i = 0; i < cArray.length; i++){\n",
    "            for (int j = 0; j < cArray[i].length; j++)\n",
    "                sb.append(String.format(\"%-5b \", cArray[i][j]));\n",
    "            sb.append(\"\\n\");\n",
    "        }\n",
    "        return sb.toString();            \n",
    "    }\n",
    "    \n",
    "    public void pprint(){\n",
    "        StringBuilder sb = new StringBuilder();\n",
    "        for (int i = 0; i < cArray.length; i++){\n",
    "            for (int j = 0; j < cArray[i].length; j++)\n",
    "                sb.append(cArray[i][j] ? \"\\u25AE\" : \"\\u25AF\");\n",
    "            sb.append(\"\\n\");\n",
    "        }\n",
    "        System.out.println(sb.toString());            \n",
    "    }\n",
    "    \n",
    "    // f)\n",
    "    public void propagate(int row){\n",
    "        if (row <= 0){\n",
    "            System.err.println(\"Can't apply propagate to first row.\");\n",
    "            return;\n",
    "        }\n",
    "        if (row >= cArray.length){\n",
    "            System.err.println(\"Row does not exist\");\n",
    "            return;\n",
    "        }\n",
    "        int clen = cArray[row].length;\n",
    "        for (int col = 0; col < clen; col++){\n",
    "            boolean a = cArray[row - 1][(clen + col - 1) % clen];\n",
    "            boolean b = cArray[row - 1][col];\n",
    "            boolean c = cArray[row - 1][(col + 1) % clen];\n",
    "            cArray[row][col] = f(a,b,c);\n",
    "        }\n",
    "    }\n",
    "    \n",
    "    private boolean f(boolean a, boolean b, boolean c){\n",
    "        return (a ^ c) ^ b;\n",
    "    }\n",
    "    \n",
    "    // h)\n",
    "    public void iterate(double p){\n",
    "        // assert (0 <= p && p <= 1);\n",
    "        fillRow(0, p);\n",
    "        for(int row = 1; row < cArray.length; row++)\n",
    "            propagate(row);\n",
    "    }\n",
    "}"
   ]
  },
  {
   "cell_type": "code",
   "execution_count": 3,
   "metadata": {},
   "outputs": [
    {
     "name": "stdout",
     "output_type": "stream",
     "text": [
      "▯▯▮▮▮▯▯▯▮▯▯▮▯▯▮▯▮▯▯▮▮▮▯▯▯▯▯▯▯▯▯▯▯▮▯▯▮▯▯▮\n",
      "▯▯▮▮▯▯▮▯▮▮▮▮▯▮▯▮▮▮▮▯▮▯▮▮▮▯▯▯▯▯▮▮▮▯▯▯▮▯▮▯\n",
      "▯▯▮▯▮▮▯▮▯▯▯▮▯▮▯▯▯▮▮▯▯▯▯▯▮▮▮▯▮▮▯▯▯▯▯▮▮▯▯▯\n",
      "▮▯▯▯▯▯▯▮▮▯▮▯▯▯▯▮▯▯▮▯▯▮▯▯▮▯▯▮▯▯▯▯▮▯▯▯▯▯▯▮\n",
      "▮▯▯▯▯▯▮▯▯▮▯▮▮▮▯▮▮▮▯▯▯▮▯▯▯▯▯▯▮▯▯▮▮▮▯▯▯▯▯▮\n",
      "▮▯▮▯▯▯▯▮▮▯▯▮▯▮▮▯▮▮▮▯▮▯▮▯▯▯▯▯▮▯▮▯▯▯▮▯▮▯▯▯\n",
      "▮▯▮▮▯▯▮▮▯▯▮▮▮▯▯▯▮▯▯▯▯▮▯▯▯▯▮▯▯▮▯▮▯▮▯▯▯▮▮▮\n",
      "▯▮▯▯▯▯▯▯▯▯▯▯▮▮▯▯▯▯▮▯▮▮▯▯▮▯▮▮▯▯▮▯▮▯▮▮▮▮▮▮\n",
      "▯▯▯▯▯▮▯▮▮▮▯▯▯▯▯▯▯▮▯▯▮▯▯▮▯▮▮▯▯▯▮▯▯▮▯▮▮▯▮▯\n",
      "▯▮▯▮▮▯▮▮▯▯▯▮▮▯▮▯▯▯▯▮▯▯▯▯▯▯▯▮▮▯▯▯▯▮▯▮▯▯▯▯\n",
      "▯▯▯▮▮▯▮▮▯▯▮▯▯▯▯▯▮▮▯▯▯▯▯▮▯▮▮▯▮▮▯▮▮▯▯▯▮▯▮▮\n",
      "▯▮▮▮▯▯▯▯▮▯▯▯▮▯▮▯▮▯▯▯▯▯▮▯▯▮▯▯▮▮▯▮▮▮▮▯▮▯▮▯\n",
      "▮▮▯▯▮▯▯▯▮▯▯▮▯▯▮▮▯▯▯▮▮▯▯▮▯▯▮▯▮▯▯▮▮▯▮▯▮▮▯▯\n",
      "▯▯▮▯▮▯▮▯▯▯▮▮▯▮▯▯▮▯▮▯▮▮▮▯▯▮▯▯▮▯▯▯▮▯▮▮▯▮▮▯\n",
      "▯▯▯▯▮▯▯▯▯▯▮▯▯▯▯▯▮▮▮▮▮▯▮▮▮▯▯▮▮▯▮▯▯▯▯▮▯▯▯▮\n",
      "▮▯▮▮▮▮▮▮▮▮▮▯▯▯▯▮▯▯▮▮▯▯▯▯▯▯▮▯▯▯▯▯▯▯▯▯▯▯▯▮\n",
      "▮▯▯▯▯▯▮▮▯▯▯▯▯▯▮▯▯▮▯▮▮▯▯▯▯▯▯▮▯▯▮▮▯▮▯▯▯▮▯▯\n",
      "▮▯▮▮▯▮▮▯▮▯▯▮▮▯▯▯▯▯▯▯▯▯▯▯▯▯▯▯▯▯▮▯▯▮▯▯▯▯▮▯\n",
      "▯▯▮▯▯▮▯▮▮▮▯▮▮▮▯▮▮▯▮▯▯▮▮▯▯▯▮▮▯▯▯▯▯▯▮▯▮▮▮▯\n",
      "▮▯▮▮▯▮▮▮▮▮▯▯▯▯▯▯▯▮▯▯▯▯▯▯▯▯▮▯▯▯▮▯▯▯▯▮▮▮▯▯\n",
      "\n"
     ]
    }
   ],
   "source": [
    "CA ca = new CA(20,40);\n",
    "ca.fillArray(0.4);\n",
    "// System.out.println(ca);\n",
    "ca.pprint();"
   ]
  },
  {
   "cell_type": "code",
   "execution_count": 4,
   "metadata": {},
   "outputs": [
    {
     "name": "stdout",
     "output_type": "stream",
     "text": [
      "▯▯▯▯▯▯▯▯▯▯▯▯▯▯▯▯▯▯▯▯▮▯▯▯▯▯▯▯▯▯▯▯▯▯▯▯▯▯▯▯\n",
      "▯▯▯▯▯▯▯▯▯▯▯▯▯▯▯▯▯▯▯▮▮▮▯▯▯▯▯▯▯▯▯▯▯▯▯▯▯▯▯▯\n",
      "▯▯▯▯▯▯▯▯▯▯▯▯▯▯▯▯▯▯▮▯▮▯▮▯▯▯▯▯▯▯▯▯▯▯▯▯▯▯▯▯\n",
      "▯▯▯▯▯▯▯▯▯▯▯▯▯▯▯▯▯▮▮▯▮▯▮▮▯▯▯▯▯▯▯▯▯▯▯▯▯▯▯▯\n",
      "▯▯▯▯▯▯▯▯▯▯▯▯▯▯▯▯▮▯▯▯▮▯▯▯▮▯▯▯▯▯▯▯▯▯▯▯▯▯▯▯\n",
      "▯▯▯▯▯▯▯▯▯▯▯▯▯▯▯▮▮▮▯▮▮▮▯▮▮▮▯▯▯▯▯▯▯▯▯▯▯▯▯▯\n",
      "▯▯▯▯▯▯▯▯▯▯▯▯▯▯▮▯▮▯▯▯▮▯▯▯▮▯▮▯▯▯▯▯▯▯▯▯▯▯▯▯\n",
      "▯▯▯▯▯▯▯▯▯▯▯▯▯▮▮▯▮▮▯▮▮▮▯▮▮▯▮▮▯▯▯▯▯▯▯▯▯▯▯▯\n",
      "▯▯▯▯▯▯▯▯▯▯▯▯▮▯▯▯▯▯▯▯▮▯▯▯▯▯▯▯▮▯▯▯▯▯▯▯▯▯▯▯\n",
      "▯▯▯▯▯▯▯▯▯▯▯▮▮▮▯▯▯▯▯▮▮▮▯▯▯▯▯▮▮▮▯▯▯▯▯▯▯▯▯▯\n",
      "▯▯▯▯▯▯▯▯▯▯▮▯▮▯▮▯▯▯▮▯▮▯▮▯▯▯▮▯▮▯▮▯▯▯▯▯▯▯▯▯\n",
      "▯▯▯▯▯▯▯▯▯▮▮▯▮▯▮▮▯▮▮▯▮▯▮▮▯▮▮▯▮▯▮▮▯▯▯▯▯▯▯▯\n",
      "▯▯▯▯▯▯▯▯▮▯▯▯▮▯▯▯▯▯▯▯▮▯▯▯▯▯▯▯▮▯▯▯▮▯▯▯▯▯▯▯\n",
      "▯▯▯▯▯▯▯▮▮▮▯▮▮▮▯▯▯▯▯▮▮▮▯▯▯▯▯▮▮▮▯▮▮▮▯▯▯▯▯▯\n",
      "▯▯▯▯▯▯▮▯▮▯▯▯▮▯▮▯▯▯▮▯▮▯▮▯▯▯▮▯▮▯▯▯▮▯▮▯▯▯▯▯\n",
      "▯▯▯▯▯▮▮▯▮▮▯▮▮▯▮▮▯▮▮▯▮▯▮▮▯▮▮▯▮▮▯▮▮▯▮▮▯▯▯▯\n",
      "▯▯▯▯▮▯▯▯▯▯▯▯▯▯▯▯▯▯▯▯▮▯▯▯▯▯▯▯▯▯▯▯▯▯▯▯▮▯▯▯\n",
      "▯▯▯▮▮▮▯▯▯▯▯▯▯▯▯▯▯▯▯▮▮▮▯▯▯▯▯▯▯▯▯▯▯▯▯▮▮▮▯▯\n",
      "▯▯▮▯▮▯▮▯▯▯▯▯▯▯▯▯▯▯▮▯▮▯▮▯▯▯▯▯▯▯▯▯▯▯▮▯▮▯▮▯\n",
      "▯▮▮▯▮▯▮▮▯▯▯▯▯▯▯▯▯▮▮▯▮▯▮▮▯▯▯▯▯▯▯▯▯▮▮▯▮▯▮▮\n",
      "\n"
     ]
    }
   ],
   "source": [
    "ca.fillArray(0);\n",
    "ca.iterate(0.05);\n",
    "//System.out.println(ca);\n",
    "ca.pprint()"
   ]
  },
  {
   "cell_type": "markdown",
   "metadata": {},
   "source": [
    "### Präsenzübung\n",
    "\n",
    "#### Swap für Paare\n"
   ]
  },
  {
   "cell_type": "code",
   "execution_count": 5,
   "metadata": {},
   "outputs": [],
   "source": [
    "public class IntPair{\n",
    "    private int left;\n",
    "    private int right;\n",
    "    \n",
    "    public IntPair(int a, int b){\n",
    "        left  = a;\n",
    "        right = b;\n",
    "    }\n",
    "    \n",
    "    public int getFirst() { return left; }\n",
    "    public int getSecond(){ return right; }\n",
    "    \n",
    "\n",
    "    public void setFirst(int a) { left  = a; }\n",
    "    public void setSecond(int b){ right = b; }\n",
    "   \n",
    "    @Override\n",
    "    public String toString(){\n",
    "        return \"( \" + left + \" \" + right + \" )\";\n",
    "    }\n",
    "    \n",
    "    public IntPair add(IntPair other){\n",
    "        return new IntPair(left + other.getFirst(), right + other.getSecond());\n",
    "    }\n",
    "    \n",
    "    \n",
    "    // TODO: swap()\n",
    "    /*\n",
    "    public void swap(){\n",
    "        int tmp = left;\n",
    "        left = right;\n",
    "        right = tmp;\n",
    "    }\n",
    "    */\n",
    "    \n",
    "    public IntPair swap(){\n",
    "        return new IntPair(right, left);\n",
    "    }\n",
    "}"
   ]
  },
  {
   "cell_type": "code",
   "execution_count": 6,
   "metadata": {},
   "outputs": [
    {
     "name": "stdout",
     "output_type": "stream",
     "text": [
      "Original p1   = ( 1 2 )\n",
      "Vertauscht p2 = ( 2 1 )\n"
     ]
    }
   ],
   "source": [
    "IntPair p1 = new IntPair(1,2);\n",
    "IntPair p2 = p1.swap();\n",
    "System.out.println(\"Original p1   = \" + p1);\n",
    "System.out.println(\"Vertauscht p2 = \" + p2);\n",
    "\n"
   ]
  },
  {
   "cell_type": "markdown",
   "metadata": {},
   "source": [
    "#### Pair of Pairs"
   ]
  },
  {
   "cell_type": "code",
   "execution_count": 7,
   "metadata": {},
   "outputs": [],
   "source": [
    "public class IntPairPair{\n",
    "    private IntPair left;\n",
    "    private IntPair right;\n",
    "    \n",
    "    public IntPairPair(IntPair a, IntPair b){\n",
    "        left  = a;\n",
    "        right = b;\n",
    "    }\n",
    "    \n",
    "    // TODO: Rest of class\n",
    "    public IntPair getFirst() { return left; }\n",
    "    public IntPair getSecond(){ return right; }\n",
    "    \n",
    "\n",
    "    public void setFirst(IntPair a) { left  = a; }\n",
    "    public void setSecond(IntPair b){ right = b; }\n",
    "    \n",
    "    @Override\n",
    "    public String toString(){\n",
    "        return \"[ \" + left + \" \" + right + \" ]\";\n",
    "    }\n",
    "    \n",
    "    public IntPairPair add(IntPairPair other){\n",
    "        IntPair left  = this.left.add(other.getFirst());\n",
    "        IntPair right = this.right.add(other.getSecond());\n",
    "        return new IntPairPair(left, right); \n",
    "    }\n",
    "    \n",
    "}\n"
   ]
  },
  {
   "cell_type": "code",
   "execution_count": 8,
   "metadata": {},
   "outputs": [
    {
     "name": "stdout",
     "output_type": "stream",
     "text": [
      "pp1: [ ( 1 2 ) ( 3 4 ) ]\n",
      "pp2: [ ( 3 4 ) ( 1 2 ) ]\n"
     ]
    }
   ],
   "source": [
    "IntPair p1 = new IntPair(1,2);\n",
    "IntPair p2 = new IntPair(3,4);\n",
    "IntPairPair pp1 = new IntPairPair(p1,p2);\n",
    "IntPairPair pp2 = new IntPairPair(p2,p1);\n",
    "System.out.println(\"pp1: \" + pp1);\n",
    "System.out.println(\"pp2: \" + pp2);"
   ]
  },
  {
   "cell_type": "markdown",
   "metadata": {},
   "source": [
    "***\n",
    "### Fragen zur nächsten Übungserie oder allgemein über Java?\n",
    "***\n",
    "\n",
    "\n",
    "\n",
    "\n"
   ]
  },
  {
   "cell_type": "code",
   "execution_count": null,
   "metadata": {},
   "outputs": [],
   "source": [
    "try{\n",
    "    int a = 1;\n",
    "    int b = 0;\n",
    "    int c = a / b;\n",
    "}catch(ArithmeticException e){ // Behandlung Fehler\n",
    "    c = 0;\n",
    "    e.printStackTrace();\n",
    "}finally{\n",
    "     // Aufräumarbeiten\n",
    "    // z.B. - Streams beenden\n",
    "    //      - Locks lösen ...\n",
    "}"
   ]
  },
  {
   "cell_type": "code",
   "execution_count": null,
   "metadata": {},
   "outputs": [],
   "source": []
  },
  {
   "cell_type": "code",
   "execution_count": null,
   "metadata": {},
   "outputs": [],
   "source": []
  },
  {
   "cell_type": "code",
   "execution_count": null,
   "metadata": {},
   "outputs": [],
   "source": []
  },
  {
   "cell_type": "code",
   "execution_count": null,
   "metadata": {},
   "outputs": [],
   "source": []
  },
  {
   "cell_type": "code",
   "execution_count": null,
   "metadata": {},
   "outputs": [],
   "source": []
  }
 ],
 "metadata": {
  "kernelspec": {
   "display_name": "Java",
   "language": "java",
   "name": "java"
  },
  "language_info": {
   "codemirror_mode": "java",
   "file_extension": ".java",
   "mimetype": "text/x-java-source",
   "name": "Java",
   "pygments_lexer": "java",
   "version": "11.0.1+13-LTS"
  }
 },
 "nbformat": 4,
 "nbformat_minor": 2
}
